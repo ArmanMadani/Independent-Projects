{
 "cells": [
  {
   "cell_type": "markdown",
   "metadata": {
    "collapsed": true
   },
   "source": [
    "#  Lyft - Berkeley Mobile Partnership"
   ]
  },
  {
   "cell_type": "markdown",
   "metadata": {},
   "source": [
    "### I. Introduction"
   ]
  },
  {
   "cell_type": "markdown",
   "metadata": {},
   "source": [
    "The Berkeley Mobile application is the University of California, Berkeley's premier data hub for  campus dining, services, facilities, and transit. With over 6,000 downloads to date and a growing user base, Berkeley Mobile is looking to expand the range of its services and provide powerful new features to the Berkeley student community. Cooperative, mutually beneficial partnerships with industry partners will enable Berkeley Mobile and its partners to not only provide these services to the community but also create a shared sense of loyalty between Berkeley Mobile, its partners, and students.\n",
    "\n",
    "One of the application's primary and most popular features is the Bear Transit page. Bear Transit is Berkeley’s primary shuttle system, servicing students and faculty everyday. Through the Bear Transit feature on Berkeley Mobile, users are presented information of shuttle schedules, live tracking of shuttle locations, and route information. The page has become an important resource for facilitating student transportation, with over 300 daily hits on the Bear Transit page alone. However, despite the popularity of Bear Transit, shuttle systems are often inconvenient. Students must plan their respective schedules around specific shuttle stops and times and the shuttles only extend around the immediate campus area. Furthermore, waiting for a shuttle at night can be a safety hazard for users. \n",
    "\n",
    "Lyft provides a superior point-to-point service which is both convenient and reliable, ensuring that students can arrive home safely."
   ]
  },
  {
   "cell_type": "markdown",
   "metadata": {},
   "source": [
    "#### Partnership Between Lyft and Berkeley Mobile"
   ]
  },
  {
   "cell_type": "markdown",
   "metadata": {},
   "source": [
    "We at Berkeley Mobile believe that we can better service campus transportation and safety needs by partnering with Lyft. We hope to integrate with Lyft's API to add a \"Request a Lyft\" button to our Bear Transit Route Selection view on both Android and iOS applications, so that our users can have a diverse set of options to stay safe. "
   ]
  },
  {
   "cell_type": "markdown",
   "metadata": {},
   "source": [
    "#### Benefits of Partnering with Berkeley Mobile"
   ]
  },
  {
   "cell_type": "markdown",
   "metadata": {},
   "source": [
    "We believe that integration with Berkeley Mobile brings a variety of benefits to Lyft:\n",
    "\n",
    "1.) Berkeley has an undergraduate student population of 27,126 and an additional graduate student population of 10,455. Partnering with Berkeley Mobile provides an opportunity to advertise directly to the expansive target audience.\n",
    "\n",
    "2.) Build and bolster brand awareness and loyalty amongst students. With proper incentivization and marketing, students will likely be loyal Lyft users beyond their time at Berkeley. \n",
    "\n",
    "3.) Berkeley Mobile is a non-profit 501(c)(3) student organization dedicated to building technology products and, more importantly, helping students stay safe on one of the largest college communities in the world. Our partners can gain tremendous public relations advantages by contributing to the advancement of Berkeley Mobile's services.\n",
    "\n",
    "4.) With regard to recruiting and hiring, Berkeley Mobile's partners gain access to programmers and mobile developers from one of the top computer science degree programs in the world. "
   ]
  },
  {
   "cell_type": "markdown",
   "metadata": {},
   "source": [
    "### II. Lyft on Campus"
   ]
  },
  {
   "cell_type": "markdown",
   "metadata": {},
   "source": [
    "The Berkeley Mobile team has devoted time and resources to measuring the campus population's current usage of Lyft. Through surveying the campus community we were able to examine the performance of Lyft relative to its competitors and gauge students' price sensitivity. Furthermore, by examining students' price sensitivity, we feel that we can effectively measure the level of incentive (i.e. discount, offer codes, etc.) necessary to pursuade students to switch from a substitutable good (i.e. Uber) to Lyft or become first-time Lyft users."
   ]
  },
  {
   "cell_type": "markdown",
   "metadata": {},
   "source": [
    "#### Survey Details"
   ]
  },
  {
   "cell_type": "markdown",
   "metadata": {},
   "source": [
    "The \"Transportation Usage Survey\" was distributed to over 100 students, of whom 70 responded during the week of February 8th. \n",
    "\n",
    "Students were asked the following questions:\n",
    "\n",
    "1.) What gender do you identify as? (Male/Female/Other)\n",
    "\n",
    "2.) Which ride-hailing application do you prefer to use? (Uber/Lyft/Do Not Use Either)\n",
    "\n",
    "3.) If you use Uber or Lyft, how frequently do you use it in terms of rides per month? (1-10 Scale)\n",
    "\n",
    "4.) If you answered Uber to Question 2, what is the minimum percentage discount Lyft would have to offer you to use Lyft instead of Uber? (N/A, No Discount, 1-5%, 6-10%, 11-20%, 21-30%, >31%)\n",
    "\n",
    "5.) If you answered Lyft to Question 2, what is the minimum percentage discount Uber would have to offer you to use Uber instead of Lyft? (N/A, No Discount, 1-5%, 6-10%, 11-20%, 21-30%, >31%)\n",
    "\n",
    "6.) What is the minimum percentage discount that your favorite ride-hail company would have to give you for you to use their service rather than walking across campus at night/on a weekend? (N/A, No Discount, 1-5%, 6-10%, 11-20%, 21-30%, >31%)"
   ]
  },
  {
   "cell_type": "markdown",
   "metadata": {},
   "source": [
    "#### Survey Results and Analysis"
   ]
  },
  {
   "cell_type": "code",
   "execution_count": 6,
   "metadata": {
    "collapsed": false
   },
   "outputs": [
    {
     "ename": "ImportError",
     "evalue": "No module named 'datascience'",
     "output_type": "error",
     "traceback": [
      "\u001b[0;31m---------------------------------------------------------------------------\u001b[0m",
      "\u001b[0;31mImportError\u001b[0m                               Traceback (most recent call last)",
      "\u001b[0;32m<ipython-input-6-9415d1890ebe>\u001b[0m in \u001b[0;36m<module>\u001b[0;34m()\u001b[0m\n\u001b[1;32m      1\u001b[0m \u001b[0;31m# Data Tools\u001b[0m\u001b[0;34m\u001b[0m\u001b[0;34m\u001b[0m\u001b[0m\n\u001b[1;32m      2\u001b[0m \u001b[0;32mimport\u001b[0m \u001b[0mnumpy\u001b[0m \u001b[0;32mas\u001b[0m \u001b[0mnp\u001b[0m\u001b[0;34m\u001b[0m\u001b[0m\n\u001b[0;32m----> 3\u001b[0;31m \u001b[0;32mfrom\u001b[0m \u001b[0mdatascience\u001b[0m \u001b[0;32mimport\u001b[0m \u001b[0;34m*\u001b[0m\u001b[0;34m\u001b[0m\u001b[0m\n\u001b[0m\u001b[1;32m      4\u001b[0m \u001b[0;34m\u001b[0m\u001b[0m\n\u001b[1;32m      5\u001b[0m \u001b[0;31m# For Visualizations\u001b[0m\u001b[0;34m\u001b[0m\u001b[0;34m\u001b[0m\u001b[0m\n",
      "\u001b[0;31mImportError\u001b[0m: No module named 'datascience'"
     ]
    }
   ],
   "source": [
    "# Data Tools\n",
    "import numpy as np\n",
    "from datascience import *\n",
    "\n",
    "# For Visualizations\n",
    "import matplotlib\n",
    "%matplotlib inline\n",
    "import matplotlib.pyplot as plots\n",
    "plots.style.use('fivethirtyeight')\n",
    "import IPython.display"
   ]
  },
  {
   "cell_type": "code",
   "execution_count": 4,
   "metadata": {
    "collapsed": false
   },
   "outputs": [
    {
     "ename": "NameError",
     "evalue": "name 'Table' is not defined",
     "output_type": "error",
     "traceback": [
      "\u001b[0;31m---------------------------------------------------------------------------\u001b[0m",
      "\u001b[0;31mNameError\u001b[0m                                 Traceback (most recent call last)",
      "\u001b[0;32m<ipython-input-4-9545f82d0ea0>\u001b[0m in \u001b[0;36m<module>\u001b[0;34m()\u001b[0m\n\u001b[0;32m----> 1\u001b[0;31m \u001b[0mraw_table\u001b[0m \u001b[0;34m=\u001b[0m \u001b[0mTable\u001b[0m\u001b[0;34m.\u001b[0m\u001b[0mread_table\u001b[0m\u001b[0;34m(\u001b[0m\u001b[0;34m'survey_responses.csv'\u001b[0m\u001b[0;34m)\u001b[0m\u001b[0;34m\u001b[0m\u001b[0m\n\u001b[0m\u001b[1;32m      2\u001b[0m \u001b[0mraw_table\u001b[0m\u001b[0;34m\u001b[0m\u001b[0m\n",
      "\u001b[0;31mNameError\u001b[0m: name 'Table' is not defined"
     ]
    }
   ],
   "source": [
    "raw_table = Table.read_table('survey_responses.csv')\n",
    "raw_table"
   ]
  },
  {
   "cell_type": "code",
   "execution_count": null,
   "metadata": {
    "collapsed": true
   },
   "outputs": [],
   "source": []
  }
 ],
 "metadata": {
  "kernelspec": {
   "display_name": "Python 3",
   "language": "python",
   "name": "python3"
  },
  "language_info": {
   "codemirror_mode": {
    "name": "ipython",
    "version": 3
   },
   "file_extension": ".py",
   "mimetype": "text/x-python",
   "name": "python",
   "nbconvert_exporter": "python",
   "pygments_lexer": "ipython3",
   "version": "3.5.1"
  }
 },
 "nbformat": 4,
 "nbformat_minor": 0
}
